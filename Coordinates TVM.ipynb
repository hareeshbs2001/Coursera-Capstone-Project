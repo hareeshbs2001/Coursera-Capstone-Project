{
    "cells": [
        {
            "cell_type": "markdown",
            "metadata": {},
            "source": "# Comparison Thiruvanathapuram and Kochi\n\nThis project is compare and contrast between the neighborhood characteristics of the two major cities viz, Thiruvananthapuram (Trivandrum) and Kochi (Cochin) of the state of Kerala in India. \n\nData required are the list of suburbs of both these cities, latitude and longitude of each of these suburbs and foursquare data to corresponding to these coordinates. \n\nThis workbook contains the list of neighborhoods and their latitude and longitude consolidated in two pandas dataframes. "
        },
        {
            "cell_type": "code",
            "execution_count": 1,
            "metadata": {},
            "outputs": [
                {
                    "name": "stdout",
                    "output_type": "stream",
                    "text": "Solving environment: done\n\n## Package Plan ##\n\n  environment location: /opt/conda/envs/Python36\n\n  added / updated specs: \n    - geopy\n\n\nThe following packages will be downloaded:\n\n    package                    |            build\n    ---------------------------|-----------------\n    geopy-1.21.0               |             py_0          58 KB  conda-forge\n    openssl-1.1.1g             |       h516909a_0         2.1 MB  conda-forge\n    python_abi-3.6             |          1_cp36m           4 KB  conda-forge\n    geographiclib-1.50         |             py_0          34 KB  conda-forge\n    certifi-2020.4.5.1         |   py36h9f0ad1d_0         151 KB  conda-forge\n    ca-certificates-2020.4.5.1 |       hecc5488_0         146 KB  conda-forge\n    ------------------------------------------------------------\n                                           Total:         2.5 MB\n\nThe following NEW packages will be INSTALLED:\n\n    geographiclib:   1.50-py_0         conda-forge\n    geopy:           1.21.0-py_0       conda-forge\n    python_abi:      3.6-1_cp36m       conda-forge\n\nThe following packages will be UPDATED:\n\n    ca-certificates: 2020.1.1-0                    --> 2020.4.5.1-hecc5488_0     conda-forge\n    certifi:         2020.4.5.1-py36_0             --> 2020.4.5.1-py36h9f0ad1d_0 conda-forge\n    openssl:         1.1.1g-h7b6447c_0             --> 1.1.1g-h516909a_0         conda-forge\n\n\nDownloading and Extracting Packages\ngeopy-1.21.0         | 58 KB     | ##################################### | 100% \nopenssl-1.1.1g       | 2.1 MB    | ##################################### | 100% \npython_abi-3.6       | 4 KB      | ##################################### | 100% \ngeographiclib-1.50   | 34 KB     | ##################################### | 100% \ncertifi-2020.4.5.1   | 151 KB    | ##################################### | 100% \nca-certificates-2020 | 146 KB    | ##################################### | 100% \nPreparing transaction: done\nVerifying transaction: done\nExecuting transaction: done\n"
                }
            ],
            "source": "import numpy as np # library to handle data in a vectorized manner\n\nimport pandas as pd # library for data analsysis\npd.set_option('display.max_columns', None)\npd.set_option('display.max_rows', None)\n\nimport json # library to handle JSON files\n\n!conda install -c conda-forge geopy --yes # uncomment this line if you haven't completed the Foursquare API lab\nfrom geopy.geocoders import Nominatim # convert an address into latitude and longitude values\n\nimport requests # library to handle requests\nfrom pandas.io.json import json_normalize # tranform JSON file into a pandas dataframe\n\n# Matplotlib and associated plotting modules\nimport matplotlib.cm as cm\nimport matplotlib.colors as colors"
        },
        {
            "cell_type": "code",
            "execution_count": 2,
            "metadata": {
                "scrolled": true
            },
            "outputs": [
                {
                    "data": {
                        "text/html": "<div>\n<style scoped>\n    .dataframe tbody tr th:only-of-type {\n        vertical-align: middle;\n    }\n\n    .dataframe tbody tr th {\n        vertical-align: top;\n    }\n\n    .dataframe thead th {\n        text-align: right;\n    }\n</style>\n<table border=\"1\" class=\"dataframe\">\n  <thead>\n    <tr style=\"text-align: right;\">\n      <th></th>\n      <th>Unnamed: 0</th>\n      <th>Unnamed: 1</th>\n    </tr>\n  </thead>\n  <tbody>\n    <tr>\n      <th>0</th>\n      <td>NaN</td>\n      <td>NaN</td>\n    </tr>\n    <tr>\n      <th>1</th>\n      <td>NaN</td>\n      <td>NaN</td>\n    </tr>\n    <tr>\n      <th>2</th>\n      <td>NaN</td>\n      <td>Aakkulam, Thiruvananthapuram, Kerala, India</td>\n    </tr>\n    <tr>\n      <th>3</th>\n      <td>NaN</td>\n      <td>Ambalathara, Thiruvananthapuram, Kerala, India</td>\n    </tr>\n    <tr>\n      <th>4</th>\n      <td>NaN</td>\n      <td>Aryankuzhi, Thiruvananthapuram, Kerala, India</td>\n    </tr>\n  </tbody>\n</table>\n</div>",
                        "text/plain": "   Unnamed: 0                                      Unnamed: 1\n0         NaN                                             NaN\n1         NaN                                             NaN\n2         NaN     Aakkulam, Thiruvananthapuram, Kerala, India\n3         NaN  Ambalathara, Thiruvananthapuram, Kerala, India\n4         NaN   Aryankuzhi, Thiruvananthapuram, Kerala, India"
                    },
                    "execution_count": 2,
                    "metadata": {},
                    "output_type": "execute_result"
                }
            ],
            "source": "# The code was removed by Watson Studio for sharing."
        },
        {
            "cell_type": "code",
            "execution_count": 3,
            "metadata": {},
            "outputs": [
                {
                    "data": {
                        "text/plain": "(67, 1)"
                    },
                    "execution_count": 3,
                    "metadata": {},
                    "output_type": "execute_result"
                }
            ],
            "source": "# Clean TVM data\n\ndf_tvm = df_data_0\ndf_tvm.drop(\"Unnamed: 0\", axis=1, inplace=True)\ndf_tvm.rename(columns={\"Unnamed: 1\": \"TVM_place_name\"}, inplace=True )\ndf_tvm.drop([0,1], axis=0, inplace=True)\ndf_tvm.shape"
        },
        {
            "cell_type": "code",
            "execution_count": 4,
            "metadata": {},
            "outputs": [],
            "source": "# Remove TVM suburbs which do not fetch latitude and longitude coordinates from Geolocator\n\ndf_tvm.drop(df_tvm.index[[2,12,22,23,25,29,35,45,46,48,53,56,65]],inplace=True)"
        },
        {
            "cell_type": "code",
            "execution_count": 6,
            "metadata": {},
            "outputs": [
                {
                    "name": "stdout",
                    "output_type": "stream",
                    "text": "             Address  Latitude  Longitude\n0           Aakkulam  8.516299  76.892079\n1        Ambalathara  8.451039  76.949729\n2      Attakulangara  8.479351  76.947455\n3            Attukal  8.466490  76.959950\n4         Beemapally  8.456439  76.934490\n5              Chala  8.482888  76.949420\n6         Chengallur  8.492304  76.977930\n7   Connemara Market  8.502869  76.951233\n8          East Fort  8.482810  76.947675\n9       Jyothi Nagar  8.526414  76.940580\n10       Kaithamukku  8.489566  76.940585\n11      Kamaleswaram  8.467127  76.948242\n12       Kaniyapuram  8.587665  76.856070\n13       Kannammoola  8.502278  76.927191\n14          Karamana  8.481707  76.966303\n15       Kariavattom  8.555444  76.885414\n16      Kazhakoottam  8.556815  76.872753\n17   Kesavadasapuram  8.529840  76.938091\n18      Konchiravila  8.453999  76.956684\n19           Kowdiar  8.522754  76.960475\n20          Manacaud  8.470998  76.942752\n21       Mannanthala  8.560675  76.943377\n22        Nalanchira  8.545559  76.947901\n23             Nemom  8.452167  77.010054\n24     Ooruttambalam  8.453062  77.059209\n25           Palayam  8.503034  76.950565\n26      Palkulangara  8.487354  76.936425\n27        Pangappara  8.505891  76.957048\n28      Pappanamcode  8.470212  76.981113\n29            Pattom  8.518676  76.942145\n30        Peroorkada  8.537289  76.966499\n31       Perunthanni  8.485103  76.936948\n32            Pettah  8.494206  76.927514\n33             Peyad  8.513969  77.019523\n34        Pongumoodu  8.540419  76.924214\n35        Poojappura  8.489845  76.973602\n36         Poonthura  8.451039  76.949729\n37        Pothencode  8.619770  76.897530\n38    Sasthamangalam  8.513167  76.972229\n39        Sreekaryam  8.548949  76.917187\n40        Thampanoor  8.487667  76.952434\n41         Thirumala  8.501966  76.991846\n42        Thonnakkal  8.505891  76.957048\n43            Thumba  8.505891  76.957048\n44            Ulloor  8.530005  76.928621\n45        Valiyavila  8.506975  76.998838\n46        Vanchiyoor  8.495900  76.939278\n47     Vattiyoorkavu  8.529457  76.986468\n48         Vazhayila  8.547029  76.973892\n49      Vazhuthacaud  8.498084  76.957380\n50     Vellayambalam  8.511472  76.962296\n51         Vellayani  8.445338  76.988529\n52         Vettucaud  8.494621  76.900147\n"
                }
            ],
            "source": "# Iteratively populating the latitude and longitude to pandas dataframe\n\nL = []\n\ni = 0\naddress = df_tvm.iloc[i,0]\n\n\n# loop until you get the coordinates\nwhile(i  < 53):\n\n    geolocator = Nominatim(user_agent=\"tvm_explorer\")\n    location = geolocator.geocode(address)\n    \n    latitude = location.latitude\n    longitude = location.longitude\n    Address1=address.replace(\", Thiruvananthapuram, Kerala, India\", \"\")\n \n    d = {'Address':Address1,\n             'Latitude':latitude,\n             'Longitude':longitude,\n             }\n\n    L.append(d)\n     \n    i = i + 1\n    address = df_tvm.iloc[i,0]\n    \n        \n\ndf_coord = pd.DataFrame(L)\nprint(df_coord)"
        },
        {
            "cell_type": "code",
            "execution_count": 55,
            "metadata": {},
            "outputs": [
                {
                    "data": {
                        "text/html": "<div>\n<style scoped>\n    .dataframe tbody tr th:only-of-type {\n        vertical-align: middle;\n    }\n\n    .dataframe tbody tr th {\n        vertical-align: top;\n    }\n\n    .dataframe thead th {\n        text-align: right;\n    }\n</style>\n<table border=\"1\" class=\"dataframe\">\n  <thead>\n    <tr style=\"text-align: right;\">\n      <th></th>\n      <th>Unnamed: 0</th>\n      <th>Unnamed: 1</th>\n    </tr>\n  </thead>\n  <tbody>\n    <tr>\n      <th>0</th>\n      <td>NaN</td>\n      <td>NaN</td>\n    </tr>\n    <tr>\n      <th>1</th>\n      <td>NaN</td>\n      <td>Pachalam, Kochi, Kerala, India</td>\n    </tr>\n    <tr>\n      <th>2</th>\n      <td>NaN</td>\n      <td>Elamakkara, Kochi, Kerala, India</td>\n    </tr>\n    <tr>\n      <th>3</th>\n      <td>NaN</td>\n      <td>Cheranellur, Kochi, Kerala, India</td>\n    </tr>\n    <tr>\n      <th>4</th>\n      <td>NaN</td>\n      <td>Kaloor, Kochi, Kerala, India</td>\n    </tr>\n  </tbody>\n</table>\n</div>",
                        "text/plain": "   Unnamed: 0                         Unnamed: 1\n0         NaN                                NaN\n1         NaN     Pachalam, Kochi, Kerala, India\n2         NaN   Elamakkara, Kochi, Kerala, India\n3         NaN  Cheranellur, Kochi, Kerala, India\n4         NaN       Kaloor, Kochi, Kerala, India"
                    },
                    "execution_count": 55,
                    "metadata": {},
                    "output_type": "execute_result"
                }
            ],
            "source": "# The code was removed by Watson Studio for sharing."
        },
        {
            "cell_type": "code",
            "execution_count": 56,
            "metadata": {},
            "outputs": [
                {
                    "data": {
                        "text/html": "<div>\n<style scoped>\n    .dataframe tbody tr th:only-of-type {\n        vertical-align: middle;\n    }\n\n    .dataframe tbody tr th {\n        vertical-align: top;\n    }\n\n    .dataframe thead th {\n        text-align: right;\n    }\n</style>\n<table border=\"1\" class=\"dataframe\">\n  <thead>\n    <tr style=\"text-align: right;\">\n      <th></th>\n      <th>Koch_place_name</th>\n    </tr>\n  </thead>\n  <tbody>\n    <tr>\n      <th>2</th>\n      <td>Elamakkara, Kochi, Kerala, India</td>\n    </tr>\n    <tr>\n      <th>3</th>\n      <td>Cheranellur, Kochi, Kerala, India</td>\n    </tr>\n    <tr>\n      <th>4</th>\n      <td>Kaloor, Kochi, Kerala, India</td>\n    </tr>\n    <tr>\n      <th>5</th>\n      <td>Palarivattom, Kochi, Kerala, India</td>\n    </tr>\n    <tr>\n      <th>6</th>\n      <td>Edapally, Kochi, Kerala, India</td>\n    </tr>\n    <tr>\n      <th>7</th>\n      <td>High Court Junction, Kochi, Kerala, India</td>\n    </tr>\n    <tr>\n      <th>8</th>\n      <td>Panampilly Nagar, Kochi, Kerala, India</td>\n    </tr>\n    <tr>\n      <th>9</th>\n      <td>Gandhi Nagar, Kochi, Kerala, India</td>\n    </tr>\n    <tr>\n      <th>10</th>\n      <td>Ravipuram, Kochi, Kerala, India</td>\n    </tr>\n    <tr>\n      <th>11</th>\n      <td>Pachalam, Kochi, Kerala, India</td>\n    </tr>\n    <tr>\n      <th>12</th>\n      <td>Kathrikadavu, Kochi, Kerala, India</td>\n    </tr>\n    <tr>\n      <th>13</th>\n      <td>Thammanam, Kochi, Kerala, India</td>\n    </tr>\n    <tr>\n      <th>14</th>\n      <td>Kadavanthra, Kochi, Kerala, India</td>\n    </tr>\n    <tr>\n      <th>15</th>\n      <td>Kaloor, Kochi, Kerala, India</td>\n    </tr>\n    <tr>\n      <th>16</th>\n      <td>Ernakulam town\\North, Kochi, Kerala, India</td>\n    </tr>\n    <tr>\n      <th>17</th>\n      <td>Ravipuram, Kochi, Kerala, India</td>\n    </tr>\n    <tr>\n      <th>18</th>\n      <td>Ernakulam South, Kochi, Kerala, India</td>\n    </tr>\n    <tr>\n      <th>19</th>\n      <td>Kalabhavan Road, Kochi, Kerala, India</td>\n    </tr>\n    <tr>\n      <th>20</th>\n      <td>Marine Drive, Kochi, Kerala, India</td>\n    </tr>\n    <tr>\n      <th>21</th>\n      <td>Willingdon Island, Kochi, Kerala, India</td>\n    </tr>\n    <tr>\n      <th>22</th>\n      <td>Fort Kochi, Kochi, Kerala, India</td>\n    </tr>\n    <tr>\n      <th>23</th>\n      <td>Mattancherry, Kochi, Kerala, India</td>\n    </tr>\n    <tr>\n      <th>24</th>\n      <td>Thoppumpady, Kochi, Kerala, India</td>\n    </tr>\n    <tr>\n      <th>25</th>\n      <td>Palluruthy, Kochi, Kerala, India</td>\n    </tr>\n    <tr>\n      <th>26</th>\n      <td>Chellanam, Kochi, Kerala, India</td>\n    </tr>\n    <tr>\n      <th>27</th>\n      <td>Kumbalangi, Kochi, Kerala, India</td>\n    </tr>\n    <tr>\n      <th>28</th>\n      <td>Kundannur, Kochi, Kerala, India</td>\n    </tr>\n    <tr>\n      <th>29</th>\n      <td>Edakochi, Kochi, Kerala, India</td>\n    </tr>\n    <tr>\n      <th>30</th>\n      <td>Thevara, Kochi, Kerala, India</td>\n    </tr>\n    <tr>\n      <th>31</th>\n      <td>Maradu, Kochi, Kerala, India</td>\n    </tr>\n    <tr>\n      <th>32</th>\n      <td>Thykoodam, Kochi, Kerala, India</td>\n    </tr>\n    <tr>\n      <th>33</th>\n      <td>Chambakkara, Kochi, Kerala, India</td>\n    </tr>\n    <tr>\n      <th>34</th>\n      <td>Kakkanad, Kochi, Kerala, India</td>\n    </tr>\n    <tr>\n      <th>35</th>\n      <td>Vennala, Kochi, Kerala, India</td>\n    </tr>\n    <tr>\n      <th>36</th>\n      <td>Thrikkakara, Kochi, Kerala, India</td>\n    </tr>\n    <tr>\n      <th>37</th>\n      <td>Vyttila, Kochi, Kerala, India</td>\n    </tr>\n    <tr>\n      <th>38</th>\n      <td>Tripunithura, Kochi, Kerala, India</td>\n    </tr>\n    <tr>\n      <th>39</th>\n      <td>Kalamassery, Kochi, Kerala, India</td>\n    </tr>\n    <tr>\n      <th>40</th>\n      <td>Aluva, Kochi, Kerala, India</td>\n    </tr>\n    <tr>\n      <th>41</th>\n      <td>Angamaly, Kochi, Kerala, India</td>\n    </tr>\n    <tr>\n      <th>42</th>\n      <td>North Paravur, Kochi, Kerala, India</td>\n    </tr>\n    <tr>\n      <th>43</th>\n      <td>Eloor, Kochi, Kerala, India</td>\n    </tr>\n    <tr>\n      <th>44</th>\n      <td>Koonammavu, Kochi, Kerala, India</td>\n    </tr>\n    <tr>\n      <th>45</th>\n      <td>Vaduthala, Kochi, Kerala, India</td>\n    </tr>\n    <tr>\n      <th>46</th>\n      <td>Vypin Island, Kochi, Kerala, India</td>\n    </tr>\n    <tr>\n      <th>47</th>\n      <td>Kumbalam, Kochi, Kerala, India</td>\n    </tr>\n    <tr>\n      <th>48</th>\n      <td>Aroor, Kochi, Kerala, India</td>\n    </tr>\n    <tr>\n      <th>49</th>\n      <td>Udayamperoor, Kochi, Kerala, India</td>\n    </tr>\n    <tr>\n      <th>50</th>\n      <td>Panangad, Kochi, Kerala, India</td>\n    </tr>\n    <tr>\n      <th>51</th>\n      <td>Eramallur, Kochi, Kerala, India</td>\n    </tr>\n    <tr>\n      <th>52</th>\n      <td>Perumbavoor, Kochi, Kerala, India</td>\n    </tr>\n    <tr>\n      <th>53</th>\n      <td>Eroor, Kochi, Kerala, India</td>\n    </tr>\n    <tr>\n      <th>54</th>\n      <td>Thiruvankulam, Kochi, Kerala, India</td>\n    </tr>\n    <tr>\n      <th>55</th>\n      <td>Kolenchery, Kochi, Kerala, India</td>\n    </tr>\n    <tr>\n      <th>56</th>\n      <td>Mamala, Kochi, Kerala, India</td>\n    </tr>\n    <tr>\n      <th>57</th>\n      <td>Kizhakkambalam, Kochi, Kerala, India</td>\n    </tr>\n    <tr>\n      <th>58</th>\n      <td>Piravom, Kochi, Kerala, India</td>\n    </tr>\n    <tr>\n      <th>59</th>\n      <td>Mulanthuruthy, Kochi, Kerala, India</td>\n    </tr>\n    <tr>\n      <th>60</th>\n      <td>Chottanikkara, Kochi, Kerala, India</td>\n    </tr>\n    <tr>\n      <th>61</th>\n      <td>Satellite Towns[edit], Kochi, Kerala, India</td>\n    </tr>\n    <tr>\n      <th>62</th>\n      <td>Kothamangalam, Kochi, Kerala, India</td>\n    </tr>\n    <tr>\n      <th>63</th>\n      <td>Moovattupuzha, Kochi, Kerala, India</td>\n    </tr>\n    <tr>\n      <th>64</th>\n      <td>Chalakudy, Kochi, Kerala, India</td>\n    </tr>\n    <tr>\n      <th>65</th>\n      <td>Koothattukulam, Kochi, Kerala, India</td>\n    </tr>\n    <tr>\n      <th>66</th>\n      <td>Kodungallur, Kochi, Kerala, India</td>\n    </tr>\n    <tr>\n      <th>67</th>\n      <td>Cherthala, Kochi, Kerala, India</td>\n    </tr>\n    <tr>\n      <th>68</th>\n      <td>Thodupuzha, Kochi, Kerala, India</td>\n    </tr>\n    <tr>\n      <th>69</th>\n      <td>Perumbavoor, Kochi, Kerala, India</td>\n    </tr>\n  </tbody>\n</table>\n</div>",
                        "text/plain": "                                Koch_place_name\n2              Elamakkara, Kochi, Kerala, India\n3             Cheranellur, Kochi, Kerala, India\n4                  Kaloor, Kochi, Kerala, India\n5            Palarivattom, Kochi, Kerala, India\n6                Edapally, Kochi, Kerala, India\n7     High Court Junction, Kochi, Kerala, India\n8        Panampilly Nagar, Kochi, Kerala, India\n9            Gandhi Nagar, Kochi, Kerala, India\n10              Ravipuram, Kochi, Kerala, India\n11               Pachalam, Kochi, Kerala, India\n12           Kathrikadavu, Kochi, Kerala, India\n13              Thammanam, Kochi, Kerala, India\n14            Kadavanthra, Kochi, Kerala, India\n15                 Kaloor, Kochi, Kerala, India\n16   Ernakulam town\\North, Kochi, Kerala, India\n17              Ravipuram, Kochi, Kerala, India\n18        Ernakulam South, Kochi, Kerala, India\n19        Kalabhavan Road, Kochi, Kerala, India\n20           Marine Drive, Kochi, Kerala, India\n21      Willingdon Island, Kochi, Kerala, India\n22             Fort Kochi, Kochi, Kerala, India\n23           Mattancherry, Kochi, Kerala, India\n24            Thoppumpady, Kochi, Kerala, India\n25             Palluruthy, Kochi, Kerala, India\n26              Chellanam, Kochi, Kerala, India\n27             Kumbalangi, Kochi, Kerala, India\n28              Kundannur, Kochi, Kerala, India\n29               Edakochi, Kochi, Kerala, India\n30                Thevara, Kochi, Kerala, India\n31                 Maradu, Kochi, Kerala, India\n32              Thykoodam, Kochi, Kerala, India\n33            Chambakkara, Kochi, Kerala, India\n34               Kakkanad, Kochi, Kerala, India\n35                Vennala, Kochi, Kerala, India\n36            Thrikkakara, Kochi, Kerala, India\n37                Vyttila, Kochi, Kerala, India\n38           Tripunithura, Kochi, Kerala, India\n39            Kalamassery, Kochi, Kerala, India\n40                  Aluva, Kochi, Kerala, India\n41               Angamaly, Kochi, Kerala, India\n42          North Paravur, Kochi, Kerala, India\n43                  Eloor, Kochi, Kerala, India\n44             Koonammavu, Kochi, Kerala, India\n45              Vaduthala, Kochi, Kerala, India\n46           Vypin Island, Kochi, Kerala, India\n47               Kumbalam, Kochi, Kerala, India\n48                  Aroor, Kochi, Kerala, India\n49           Udayamperoor, Kochi, Kerala, India\n50               Panangad, Kochi, Kerala, India\n51              Eramallur, Kochi, Kerala, India\n52            Perumbavoor, Kochi, Kerala, India\n53                  Eroor, Kochi, Kerala, India\n54          Thiruvankulam, Kochi, Kerala, India\n55             Kolenchery, Kochi, Kerala, India\n56                 Mamala, Kochi, Kerala, India\n57         Kizhakkambalam, Kochi, Kerala, India\n58                Piravom, Kochi, Kerala, India\n59          Mulanthuruthy, Kochi, Kerala, India\n60          Chottanikkara, Kochi, Kerala, India\n61  Satellite Towns[edit], Kochi, Kerala, India\n62          Kothamangalam, Kochi, Kerala, India\n63          Moovattupuzha, Kochi, Kerala, India\n64              Chalakudy, Kochi, Kerala, India\n65         Koothattukulam, Kochi, Kerala, India\n66            Kodungallur, Kochi, Kerala, India\n67              Cherthala, Kochi, Kerala, India\n68             Thodupuzha, Kochi, Kerala, India\n69            Perumbavoor, Kochi, Kerala, India"
                    },
                    "execution_count": 56,
                    "metadata": {},
                    "output_type": "execute_result"
                }
            ],
            "source": "# Clean koch data\n\ndf_koch = df_data_1\ndf_koch.drop(\"Unnamed: 0\", axis=1, inplace=True)\ndf_koch.rename(columns={\"Unnamed: 1\": \"Koch_place_name\"}, inplace=True )\ndf_koch.drop([0,1], axis=0, inplace=True)\ndf_koch"
        },
        {
            "cell_type": "code",
            "execution_count": 57,
            "metadata": {},
            "outputs": [],
            "source": "# Remove koch suburbs which do not fetch latitude and longitude coordinates from Geolocator\n\ndf_koch1 = df_koch.drop(df_koch.index[[1,10,11,14,17,25,31,36,40,42,47,48,49,51,52,54,55,57,58,59,60,62,63,66]])\n"
        },
        {
            "cell_type": "code",
            "execution_count": 61,
            "metadata": {},
            "outputs": [
                {
                    "name": "stdout",
                    "output_type": "stream",
                    "text": "                Address   Latitude  Longitude\n0            Elamakkara  10.017068  76.292086\n1                Kaloor   9.967339  76.299929\n2          Palarivattom  10.002527  76.306206\n3              Edapally  10.028576  76.310089\n4   High Court Junction   9.983803  76.274017\n5      Panampilly Nagar   9.965506  76.294294\n6          Gandhi Nagar   9.934074  76.260630\n7             Ravipuram   9.959610  76.289858\n8              Pachalam  10.001258  76.279076\n9           Kadavanthra   9.966674  76.298158\n10               Kaloor   9.967339  76.299929\n11            Ravipuram   9.959610  76.289858\n12      Ernakulam South   9.964709  76.287607\n13         Marine Drive   9.976074  76.277645\n14    Willingdon Island   9.947789  76.275470\n15           Fort Kochi   9.965447  76.244950\n16         Mattancherry   9.958351  76.259181\n17          Thoppumpady   9.934813  76.260073\n18           Palluruthy   9.926331  76.270878\n19            Chellanam   9.791248  76.278362\n20            Kundannur   9.931853  76.317985\n21             Edakochi   9.893751  76.295982\n22              Thevara   9.935783  76.298296\n23               Maradu   9.939759  76.328630\n24            Thykoodam   9.960110  76.323729\n25             Kakkanad   9.998822  76.381237\n26              Vennala  10.005820  76.318720\n27          Thrikkakara   9.934074  76.260630\n28              Vyttila   9.966111  76.314468\n29          Kalamassery  10.044541  76.317178\n30                Aluva  10.110095  76.349516\n31             Angamaly  10.193980  76.386232\n32                Eloor   9.977107  76.279920\n33            Vaduthala  10.013150  76.276762\n34         Vypin Island  10.078410  76.210286\n35             Kumbalam   9.890583  76.312375\n36                Aroor   9.866916  76.299596\n37          Perumbavoor  10.114630  76.477757\n38           Kolenchery   9.980016  76.472593\n39              Piravom   9.934074  76.260630\n40        Moovattupuzha   9.765201  76.562090\n41          Kodungallur  10.223959  76.197750\n42            Cherthala   9.691204  76.325717\n"
                }
            ],
            "source": "# Iteratively populating the latitude and longitude to pandas dataframe\n\nM = []\n\nj = 0\n\n\n\n# loop until you get the coordinates\nwhile(j  < 43):\n\n    address_koch = df_koch1.iloc[j,0]\n    geolocator = Nominatim(user_agent=\"koch_explorer\")\n    location = geolocator.geocode(address_koch)\n    latitude = location.latitude\n    longitude = location.longitude\n    Address2=address_koch.replace(\", Kochi, Kerala, India\", \"\")\n    \n    #print(j, Address2, latitude, longitude)\n \n    d = {'Address':Address2,\n            'Latitude':latitude,\n            'Longitude':longitude,\n            }\n\n    M.append(d)\n     \n    j = j + 1\n    address = df_koch1.iloc[j,0]\n    \n        \n\ndf_kochcoord = pd.DataFrame(M)\nprint(df_kochcoord)"
        }
    ],
    "metadata": {
        "kernelspec": {
            "display_name": "Python 3.6",
            "language": "python",
            "name": "python3"
        },
        "language_info": {
            "codemirror_mode": {
                "name": "ipython",
                "version": 3
            },
            "file_extension": ".py",
            "mimetype": "text/x-python",
            "name": "python",
            "nbconvert_exporter": "python",
            "pygments_lexer": "ipython3",
            "version": "3.6.9"
        }
    },
    "nbformat": 4,
    "nbformat_minor": 1
}